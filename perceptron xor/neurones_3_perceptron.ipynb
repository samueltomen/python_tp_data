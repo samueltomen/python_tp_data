{
 "cells": [
  {
   "cell_type": "code",
   "id": "initial_id",
   "metadata": {
    "collapsed": true,
    "ExecuteTime": {
     "end_time": "2024-11-14T13:22:13.673731Z",
     "start_time": "2024-11-14T13:22:13.668714Z"
    }
   },
   "source": "import numpy as np",
   "outputs": [],
   "execution_count": 6
  },
  {
   "metadata": {
    "ExecuteTime": {
     "end_time": "2024-11-14T13:22:13.687493Z",
     "start_time": "2024-11-14T13:22:13.681428Z"
    }
   },
   "cell_type": "code",
   "source": [
    "class Perceptron:\n",
    "    def __init__(self, no_of_inputs, nb_epochs=100, learning_rate=0.1):\n",
    "        self.nb_epochs = nb_epochs\n",
    "        self.learning_rate = learning_rate\n",
    "        self.weights = np.zeros(no_of_inputs + 1)\n",
    "\n",
    "    def predict(self, inputs):\n",
    "        summation = np.dot(inputs, self.weights[1:]) + self.weights[0]\n",
    "        return 1 if summation > 0 else 0\n",
    "\n",
    "    def train(self, training_inputs, labels):\n",
    "        for _ in range(self.nb_epochs):\n",
    "            for inputs, label in zip(training_inputs, labels):\n",
    "                prediction = self.predict(inputs)\n",
    "                self.weights[1:] += self.learning_rate * (label - prediction) * inputs\n",
    "                self.weights[0] += self.learning_rate * (label - prediction) * 1"
   ],
   "id": "9d8e1d56fae35207",
   "outputs": [],
   "execution_count": 7
  },
  {
   "metadata": {
    "ExecuteTime": {
     "end_time": "2024-11-14T13:22:13.693502Z",
     "start_time": "2024-11-14T13:22:13.689004Z"
    }
   },
   "cell_type": "code",
   "source": [
    "# Initialisation des perceptrons\n",
    "perceptron1 = Perceptron(2)\n",
    "perceptron2 = Perceptron(2)\n",
    "perceptron3 = Perceptron(2)"
   ],
   "id": "88eb7d0b6dae1881",
   "outputs": [],
   "execution_count": 8
  },
  {
   "metadata": {
    "ExecuteTime": {
     "end_time": "2024-11-14T13:22:13.708643Z",
     "start_time": "2024-11-14T13:22:13.696030Z"
    }
   },
   "cell_type": "code",
   "source": [
    "# Entraînement des perceptrons 1 et 2 pour simuler les portes logiques\n",
    "training_inputs = [np.array([1, 1]), np.array([1, 0]), np.array([0, 1]), np.array([0, 0])]\n",
    "labels_AND = np.array([1, 0, 0, 0]) \n",
    "labels_OR = np.array([1, 1, 1, 0])\n",
    "\n",
    "perceptron2.train(training_inputs, labels_AND)\n",
    "perceptron1.train(training_inputs, labels_OR)\n"
   ],
   "id": "7a5566832b09074e",
   "outputs": [],
   "execution_count": 9
  },
  {
   "metadata": {
    "ExecuteTime": {
     "end_time": "2024-11-14T13:22:13.736778Z",
     "start_time": "2024-11-14T13:22:13.724691Z"
    }
   },
   "cell_type": "code",
   "source": [
    "# Préparer les entrées et les étiquettes pour le XOR final\n",
    "XOR_labels = np.array([0, 1, 1, 0])\n",
    "\n",
    "# Entraîner le troisième perceptron avec les sorties de perceptron1 et perceptron2\n",
    "training_outputs = []\n",
    "for inputs in training_inputs:\n",
    "    output1 = perceptron1.predict(inputs)\n",
    "    output2 = perceptron2.predict(inputs)\n",
    "    training_outputs.append(np.array([output1, output2]))\n",
    "\n",
    "perceptron3.train(training_outputs, XOR_labels)\n",
    "\n",
    "# Tester le réseau pour le XOR\n",
    "for inputs in training_inputs:\n",
    "    output1 = perceptron1.predict(inputs)\n",
    "    output2 = perceptron2.predict(inputs)\n",
    "    XOR_output = perceptron3.predict(np.array([output1, output2]))\n",
    "    print(f\"Entrée: {inputs}, XOR Output: {XOR_output}\")\n"
   ],
   "id": "bcff9b2300d784f8",
   "outputs": [
    {
     "name": "stdout",
     "output_type": "stream",
     "text": [
      "Entrée: [1 1], XOR Output: 0\n",
      "Entrée: [1 0], XOR Output: 1\n",
      "Entrée: [0 1], XOR Output: 1\n",
      "Entrée: [0 0], XOR Output: 0\n"
     ]
    }
   ],
   "execution_count": 10
  }
 ],
 "metadata": {
  "kernelspec": {
   "display_name": "Python 3",
   "language": "python",
   "name": "python3"
  },
  "language_info": {
   "codemirror_mode": {
    "name": "ipython",
    "version": 2
   },
   "file_extension": ".py",
   "mimetype": "text/x-python",
   "name": "python",
   "nbconvert_exporter": "python",
   "pygments_lexer": "ipython2",
   "version": "2.7.6"
  }
 },
 "nbformat": 4,
 "nbformat_minor": 5
}
